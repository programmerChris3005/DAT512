{
 "cells": [
  {
   "cell_type": "code",
   "execution_count": 3,
   "id": "09eef4c2",
   "metadata": {},
   "outputs": [
    {
     "data": {
      "text/plain": [
       "'\\n- Types and frequency of tickets\\n- Seasonality of types of tickets\\n- Append weather data and evaluate trends\\n- Append population and evaluate trends\\n\\n'"
      ]
     },
     "execution_count": 3,
     "metadata": {},
     "output_type": "execute_result"
    }
   ],
   "source": [
    "#Possible areas to examine\n",
    "\n",
    "'''\n",
    "- Types and frequency of tickets\n",
    "- Seasonality of types of tickets\n",
    "- Append weather data and evaluate trends\n",
    "- Append population and evaluate trends\n",
    "\n",
    "'''"
   ]
  },
  {
   "cell_type": "code",
   "execution_count": 4,
   "id": "d732c89a",
   "metadata": {},
   "outputs": [
    {
     "data": {
      "text/plain": [
       "'\\n- A working notebook.\\n    - Do not include test, practice, or broken code.\\n- Functional and documented data importation.\\n- Comments for all of your code.\\n    -In the comments, describe any assumptions made.\\n- Show conclusions with images and explainers in markdown cells.\\n- Data saved to files within the project file structure.\\n\\n'"
      ]
     },
     "execution_count": 4,
     "metadata": {},
     "output_type": "execute_result"
    }
   ],
   "source": [
    "# Project Requirements:\n",
    "\n",
    "'''\n",
    "- A working notebook.\n",
    "    - Do not include test, practice, or broken code.\n",
    "- Functional and documented data importation.\n",
    "- Comments for all of your code.\n",
    "    -In the comments, describe any assumptions made.\n",
    "- Show conclusions with images and explainers in markdown cells.\n",
    "- Data saved to files within the project file structure.\n",
    "\n",
    "'''"
   ]
  },
  {
   "cell_type": "code",
   "execution_count": 5,
   "id": "55eb7187",
   "metadata": {},
   "outputs": [],
   "source": [
    "import requests\n",
    "import pandas as pd"
   ]
  },
  {
   "cell_type": "markdown",
   "id": "d4d72e58",
   "metadata": {},
   "source": [
    "# Unit 1 Project- Buffalo 311 Open Data Analysis\n",
    "Using the 311 Service Requests data, we are going to analyze ticket, weather and population trends.\n",
    "\n",
    "Diving into the 311 Service Requests..."
   ]
  },
  {
   "cell_type": "code",
   "execution_count": 6,
   "id": "a10b4718",
   "metadata": {},
   "outputs": [
    {
     "name": "stdout",
     "output_type": "stream",
     "text": [
      "Status code  200\n",
      "Number of rows returned  1000\n",
      "Encoded URI with params  https://data.buffalony.gov/resource/whkc-e5vr.json\n"
     ]
    }
   ],
   "source": [
    "# Data Importation: Accessing the dataset via SODA API\n",
    "uri = 'https://data.buffalony.gov/resource/whkc-e5vr.json'\n",
    "r = requests.get(uri)\n",
    "print('Status code ', r.status_code)\n",
    "print('Number of rows returned ', len(r.json()))\n",
    "print('Encoded URI with params ' , r.url)"
   ]
  },
  {
   "cell_type": "code",
   "execution_count": 7,
   "id": "eebda714",
   "metadata": {},
   "outputs": [
    {
     "name": "stdout",
     "output_type": "stream",
     "text": [
      "(1000, 48)\n"
     ]
    },
    {
     "data": {
      "text/html": [
       "<div>\n",
       "<style scoped>\n",
       "    .dataframe tbody tr th:only-of-type {\n",
       "        vertical-align: middle;\n",
       "    }\n",
       "\n",
       "    .dataframe tbody tr th {\n",
       "        vertical-align: top;\n",
       "    }\n",
       "\n",
       "    .dataframe thead th {\n",
       "        text-align: right;\n",
       "    }\n",
       "</style>\n",
       "<table border=\"1\" class=\"dataframe\">\n",
       "  <thead>\n",
       "    <tr style=\"text-align: right;\">\n",
       "      <th></th>\n",
       "      <th>case_reference</th>\n",
       "      <th>open_date</th>\n",
       "      <th>closed_date</th>\n",
       "      <th>status</th>\n",
       "      <th>subject</th>\n",
       "      <th>reason</th>\n",
       "      <th>type</th>\n",
       "      <th>object_type</th>\n",
       "      <th>address_number</th>\n",
       "      <th>address_line_1</th>\n",
       "      <th>...</th>\n",
       "      <th>:@computed_region_eziv_p4ck</th>\n",
       "      <th>:@computed_region_jdfw_hhbp</th>\n",
       "      <th>:@computed_region_urdz_b6n8</th>\n",
       "      <th>:@computed_region_vsen_jbmg</th>\n",
       "      <th>:@computed_region_nmyf_6jtp</th>\n",
       "      <th>:@computed_region_ff6v_jbaa</th>\n",
       "      <th>:@computed_region_gkva_sjqs</th>\n",
       "      <th>:@computed_region_h7a8_iwt4</th>\n",
       "      <th>address_line_2</th>\n",
       "      <th>:@computed_region_k9un_h6vm</th>\n",
       "    </tr>\n",
       "  </thead>\n",
       "  <tbody>\n",
       "    <tr>\n",
       "      <th>0</th>\n",
       "      <td>509589-1001799765</td>\n",
       "      <td>2023-02-12T12:00:00.000</td>\n",
       "      <td>2023-02-25T10:39:00.000</td>\n",
       "      <td>Closed</td>\n",
       "      <td>DPIS</td>\n",
       "      <td>Housing</td>\n",
       "      <td>Open311 Housing</td>\n",
       "      <td>Property</td>\n",
       "      <td>86</td>\n",
       "      <td>AUSTIN</td>\n",
       "      <td>...</td>\n",
       "      <td>72</td>\n",
       "      <td>18</td>\n",
       "      <td>1</td>\n",
       "      <td>2</td>\n",
       "      <td>26</td>\n",
       "      <td>88</td>\n",
       "      <td>277</td>\n",
       "      <td>10</td>\n",
       "      <td>NaN</td>\n",
       "      <td>NaN</td>\n",
       "    </tr>\n",
       "    <tr>\n",
       "      <th>1</th>\n",
       "      <td>1001788769</td>\n",
       "      <td>2023-02-07T15:04:00.000</td>\n",
       "      <td>2023-02-14T10:35:00.000</td>\n",
       "      <td>Closed</td>\n",
       "      <td>Dept of Public Works</td>\n",
       "      <td>Sanitation</td>\n",
       "      <td>Totes Replace (Req_Serv)</td>\n",
       "      <td>Property</td>\n",
       "      <td>1358</td>\n",
       "      <td>BROADWAY</td>\n",
       "      <td>...</td>\n",
       "      <td>66</td>\n",
       "      <td>2</td>\n",
       "      <td>11</td>\n",
       "      <td>1</td>\n",
       "      <td>24</td>\n",
       "      <td>70</td>\n",
       "      <td>266</td>\n",
       "      <td>2</td>\n",
       "      <td>NaN</td>\n",
       "      <td>NaN</td>\n",
       "    </tr>\n",
       "    <tr>\n",
       "      <th>2</th>\n",
       "      <td>1001760699</td>\n",
       "      <td>2023-01-03T12:06:00.000</td>\n",
       "      <td>2023-01-26T12:56:00.000</td>\n",
       "      <td>Closed</td>\n",
       "      <td>Dept of Public Works</td>\n",
       "      <td>Engineering - Traffic</td>\n",
       "      <td>Sign Hazards (Req_Serv)</td>\n",
       "      <td>Property</td>\n",
       "      <td>INTERSECTION</td>\n",
       "      <td>Madison St</td>\n",
       "      <td>...</td>\n",
       "      <td>60</td>\n",
       "      <td>8</td>\n",
       "      <td>10</td>\n",
       "      <td>1</td>\n",
       "      <td>35</td>\n",
       "      <td>47</td>\n",
       "      <td>50</td>\n",
       "      <td>4</td>\n",
       "      <td>Peckham St</td>\n",
       "      <td>NaN</td>\n",
       "    </tr>\n",
       "    <tr>\n",
       "      <th>3</th>\n",
       "      <td>506083-1001764175</td>\n",
       "      <td>2023-01-12T13:30:00.000</td>\n",
       "      <td>2023-01-17T08:08:00.000</td>\n",
       "      <td>Closed</td>\n",
       "      <td>Dept of Parking</td>\n",
       "      <td>Parking Violations Bureau</td>\n",
       "      <td>Parking Issues (Req_Serv)</td>\n",
       "      <td>Property</td>\n",
       "      <td>201</td>\n",
       "      <td>BROADWAY</td>\n",
       "      <td>...</td>\n",
       "      <td>20</td>\n",
       "      <td>15</td>\n",
       "      <td>9</td>\n",
       "      <td>5</td>\n",
       "      <td>8</td>\n",
       "      <td>84</td>\n",
       "      <td>5</td>\n",
       "      <td>4</td>\n",
       "      <td>NaN</td>\n",
       "      <td>NaN</td>\n",
       "    </tr>\n",
       "    <tr>\n",
       "      <th>4</th>\n",
       "      <td>1001787887</td>\n",
       "      <td>2023-02-02T10:53:00.000</td>\n",
       "      <td>2023-02-22T08:27:00.000</td>\n",
       "      <td>Closed</td>\n",
       "      <td>DPIS</td>\n",
       "      <td>Housing</td>\n",
       "      <td>Housing Violations (Req_Serv)</td>\n",
       "      <td>Property</td>\n",
       "      <td>464</td>\n",
       "      <td>FERRY EAST</td>\n",
       "      <td>...</td>\n",
       "      <td>59</td>\n",
       "      <td>7</td>\n",
       "      <td>6</td>\n",
       "      <td>4</td>\n",
       "      <td>21</td>\n",
       "      <td>11</td>\n",
       "      <td>283</td>\n",
       "      <td>8</td>\n",
       "      <td>NaN</td>\n",
       "      <td>3</td>\n",
       "    </tr>\n",
       "  </tbody>\n",
       "</table>\n",
       "<p>5 rows × 48 columns</p>\n",
       "</div>"
      ],
      "text/plain": [
       "      case_reference                open_date              closed_date  \\\n",
       "0  509589-1001799765  2023-02-12T12:00:00.000  2023-02-25T10:39:00.000   \n",
       "1         1001788769  2023-02-07T15:04:00.000  2023-02-14T10:35:00.000   \n",
       "2         1001760699  2023-01-03T12:06:00.000  2023-01-26T12:56:00.000   \n",
       "3  506083-1001764175  2023-01-12T13:30:00.000  2023-01-17T08:08:00.000   \n",
       "4         1001787887  2023-02-02T10:53:00.000  2023-02-22T08:27:00.000   \n",
       "\n",
       "   status               subject                     reason  \\\n",
       "0  Closed                  DPIS                    Housing   \n",
       "1  Closed  Dept of Public Works                 Sanitation   \n",
       "2  Closed  Dept of Public Works      Engineering - Traffic   \n",
       "3  Closed       Dept of Parking  Parking Violations Bureau   \n",
       "4  Closed                  DPIS                    Housing   \n",
       "\n",
       "                            type object_type address_number address_line_1  \\\n",
       "0                Open311 Housing    Property             86         AUSTIN   \n",
       "1       Totes Replace (Req_Serv)    Property           1358       BROADWAY   \n",
       "2        Sign Hazards (Req_Serv)    Property   INTERSECTION     Madison St   \n",
       "3      Parking Issues (Req_Serv)    Property            201       BROADWAY   \n",
       "4  Housing Violations (Req_Serv)    Property            464     FERRY EAST   \n",
       "\n",
       "   ... :@computed_region_eziv_p4ck :@computed_region_jdfw_hhbp  \\\n",
       "0  ...                          72                          18   \n",
       "1  ...                          66                           2   \n",
       "2  ...                          60                           8   \n",
       "3  ...                          20                          15   \n",
       "4  ...                          59                           7   \n",
       "\n",
       "  :@computed_region_urdz_b6n8 :@computed_region_vsen_jbmg  \\\n",
       "0                           1                           2   \n",
       "1                          11                           1   \n",
       "2                          10                           1   \n",
       "3                           9                           5   \n",
       "4                           6                           4   \n",
       "\n",
       "  :@computed_region_nmyf_6jtp :@computed_region_ff6v_jbaa  \\\n",
       "0                          26                          88   \n",
       "1                          24                          70   \n",
       "2                          35                          47   \n",
       "3                           8                          84   \n",
       "4                          21                          11   \n",
       "\n",
       "  :@computed_region_gkva_sjqs :@computed_region_h7a8_iwt4 address_line_2  \\\n",
       "0                         277                          10            NaN   \n",
       "1                         266                           2            NaN   \n",
       "2                          50                           4     Peckham St   \n",
       "3                           5                           4            NaN   \n",
       "4                         283                           8            NaN   \n",
       "\n",
       "  :@computed_region_k9un_h6vm  \n",
       "0                         NaN  \n",
       "1                         NaN  \n",
       "2                         NaN  \n",
       "3                         NaN  \n",
       "4                           3  \n",
       "\n",
       "[5 rows x 48 columns]"
      ]
     },
     "execution_count": 7,
     "metadata": {},
     "output_type": "execute_result"
    }
   ],
   "source": [
    "df=pd.DataFrame(r.json())\n",
    "print(df.shape)\n",
    "df.head()"
   ]
  },
  {
   "cell_type": "code",
   "execution_count": null,
   "id": "2d6838ec",
   "metadata": {},
   "outputs": [],
   "source": []
  },
  {
   "cell_type": "markdown",
   "id": "5afe8d29",
   "metadata": {},
   "source": [
    "# Adding columns to the dataset\n"
   ]
  },
  {
   "cell_type": "code",
   "execution_count": 8,
   "id": "d3ac41b2",
   "metadata": {},
   "outputs": [
    {
     "data": {
      "text/html": [
       "<div>\n",
       "<style scoped>\n",
       "    .dataframe tbody tr th:only-of-type {\n",
       "        vertical-align: middle;\n",
       "    }\n",
       "\n",
       "    .dataframe tbody tr th {\n",
       "        vertical-align: top;\n",
       "    }\n",
       "\n",
       "    .dataframe thead th {\n",
       "        text-align: right;\n",
       "    }\n",
       "</style>\n",
       "<table border=\"1\" class=\"dataframe\">\n",
       "  <thead>\n",
       "    <tr style=\"text-align: right;\">\n",
       "      <th></th>\n",
       "      <th>case_reference</th>\n",
       "      <th>open_date</th>\n",
       "      <th>closed_date</th>\n",
       "      <th>status</th>\n",
       "      <th>subject</th>\n",
       "      <th>reason</th>\n",
       "      <th>type</th>\n",
       "      <th>object_type</th>\n",
       "      <th>address_number</th>\n",
       "      <th>address_line_1</th>\n",
       "      <th>...</th>\n",
       "      <th>:@computed_region_h7a8_iwt4</th>\n",
       "      <th>address_line_2</th>\n",
       "      <th>:@computed_region_k9un_h6vm</th>\n",
       "      <th>Year</th>\n",
       "      <th>Month (Open)</th>\n",
       "      <th>Day(Open)</th>\n",
       "      <th>Month (Closed)</th>\n",
       "      <th>Day(Closed)</th>\n",
       "      <th>Ticket Duration</th>\n",
       "      <th>Season</th>\n",
       "    </tr>\n",
       "  </thead>\n",
       "  <tbody>\n",
       "    <tr>\n",
       "      <th>0</th>\n",
       "      <td>509589-1001799765</td>\n",
       "      <td>2023-02-12T12:00:00.000</td>\n",
       "      <td>2023-02-25T10:39:00.000</td>\n",
       "      <td>Closed</td>\n",
       "      <td>DPIS</td>\n",
       "      <td>Housing</td>\n",
       "      <td>Open311 Housing</td>\n",
       "      <td>Property</td>\n",
       "      <td>86</td>\n",
       "      <td>AUSTIN</td>\n",
       "      <td>...</td>\n",
       "      <td>10</td>\n",
       "      <td>NaN</td>\n",
       "      <td>NaN</td>\n",
       "      <td>2023.0</td>\n",
       "      <td>2</td>\n",
       "      <td>12</td>\n",
       "      <td>2.0</td>\n",
       "      <td>25.0</td>\n",
       "      <td>13.0</td>\n",
       "      <td>Winter</td>\n",
       "    </tr>\n",
       "    <tr>\n",
       "      <th>1</th>\n",
       "      <td>1001788769</td>\n",
       "      <td>2023-02-07T15:04:00.000</td>\n",
       "      <td>2023-02-14T10:35:00.000</td>\n",
       "      <td>Closed</td>\n",
       "      <td>Dept of Public Works</td>\n",
       "      <td>Sanitation</td>\n",
       "      <td>Totes Replace (Req_Serv)</td>\n",
       "      <td>Property</td>\n",
       "      <td>1358</td>\n",
       "      <td>BROADWAY</td>\n",
       "      <td>...</td>\n",
       "      <td>2</td>\n",
       "      <td>NaN</td>\n",
       "      <td>NaN</td>\n",
       "      <td>2023.0</td>\n",
       "      <td>2</td>\n",
       "      <td>7</td>\n",
       "      <td>2.0</td>\n",
       "      <td>14.0</td>\n",
       "      <td>7.0</td>\n",
       "      <td>Winter</td>\n",
       "    </tr>\n",
       "    <tr>\n",
       "      <th>2</th>\n",
       "      <td>1001760699</td>\n",
       "      <td>2023-01-03T12:06:00.000</td>\n",
       "      <td>2023-01-26T12:56:00.000</td>\n",
       "      <td>Closed</td>\n",
       "      <td>Dept of Public Works</td>\n",
       "      <td>Engineering - Traffic</td>\n",
       "      <td>Sign Hazards (Req_Serv)</td>\n",
       "      <td>Property</td>\n",
       "      <td>INTERSECTION</td>\n",
       "      <td>Madison St</td>\n",
       "      <td>...</td>\n",
       "      <td>4</td>\n",
       "      <td>Peckham St</td>\n",
       "      <td>NaN</td>\n",
       "      <td>2023.0</td>\n",
       "      <td>1</td>\n",
       "      <td>3</td>\n",
       "      <td>1.0</td>\n",
       "      <td>26.0</td>\n",
       "      <td>23.0</td>\n",
       "      <td>Winter</td>\n",
       "    </tr>\n",
       "    <tr>\n",
       "      <th>3</th>\n",
       "      <td>506083-1001764175</td>\n",
       "      <td>2023-01-12T13:30:00.000</td>\n",
       "      <td>2023-01-17T08:08:00.000</td>\n",
       "      <td>Closed</td>\n",
       "      <td>Dept of Parking</td>\n",
       "      <td>Parking Violations Bureau</td>\n",
       "      <td>Parking Issues (Req_Serv)</td>\n",
       "      <td>Property</td>\n",
       "      <td>201</td>\n",
       "      <td>BROADWAY</td>\n",
       "      <td>...</td>\n",
       "      <td>4</td>\n",
       "      <td>NaN</td>\n",
       "      <td>NaN</td>\n",
       "      <td>2023.0</td>\n",
       "      <td>1</td>\n",
       "      <td>12</td>\n",
       "      <td>1.0</td>\n",
       "      <td>17.0</td>\n",
       "      <td>5.0</td>\n",
       "      <td>Winter</td>\n",
       "    </tr>\n",
       "    <tr>\n",
       "      <th>4</th>\n",
       "      <td>1001787887</td>\n",
       "      <td>2023-02-02T10:53:00.000</td>\n",
       "      <td>2023-02-22T08:27:00.000</td>\n",
       "      <td>Closed</td>\n",
       "      <td>DPIS</td>\n",
       "      <td>Housing</td>\n",
       "      <td>Housing Violations (Req_Serv)</td>\n",
       "      <td>Property</td>\n",
       "      <td>464</td>\n",
       "      <td>FERRY EAST</td>\n",
       "      <td>...</td>\n",
       "      <td>8</td>\n",
       "      <td>NaN</td>\n",
       "      <td>3</td>\n",
       "      <td>2023.0</td>\n",
       "      <td>2</td>\n",
       "      <td>2</td>\n",
       "      <td>2.0</td>\n",
       "      <td>22.0</td>\n",
       "      <td>20.0</td>\n",
       "      <td>Winter</td>\n",
       "    </tr>\n",
       "  </tbody>\n",
       "</table>\n",
       "<p>5 rows × 55 columns</p>\n",
       "</div>"
      ],
      "text/plain": [
       "      case_reference                open_date              closed_date  \\\n",
       "0  509589-1001799765  2023-02-12T12:00:00.000  2023-02-25T10:39:00.000   \n",
       "1         1001788769  2023-02-07T15:04:00.000  2023-02-14T10:35:00.000   \n",
       "2         1001760699  2023-01-03T12:06:00.000  2023-01-26T12:56:00.000   \n",
       "3  506083-1001764175  2023-01-12T13:30:00.000  2023-01-17T08:08:00.000   \n",
       "4         1001787887  2023-02-02T10:53:00.000  2023-02-22T08:27:00.000   \n",
       "\n",
       "   status               subject                     reason  \\\n",
       "0  Closed                  DPIS                    Housing   \n",
       "1  Closed  Dept of Public Works                 Sanitation   \n",
       "2  Closed  Dept of Public Works      Engineering - Traffic   \n",
       "3  Closed       Dept of Parking  Parking Violations Bureau   \n",
       "4  Closed                  DPIS                    Housing   \n",
       "\n",
       "                            type object_type address_number address_line_1  \\\n",
       "0                Open311 Housing    Property             86         AUSTIN   \n",
       "1       Totes Replace (Req_Serv)    Property           1358       BROADWAY   \n",
       "2        Sign Hazards (Req_Serv)    Property   INTERSECTION     Madison St   \n",
       "3      Parking Issues (Req_Serv)    Property            201       BROADWAY   \n",
       "4  Housing Violations (Req_Serv)    Property            464     FERRY EAST   \n",
       "\n",
       "   ... :@computed_region_h7a8_iwt4 address_line_2 :@computed_region_k9un_h6vm  \\\n",
       "0  ...                          10            NaN                         NaN   \n",
       "1  ...                           2            NaN                         NaN   \n",
       "2  ...                           4     Peckham St                         NaN   \n",
       "3  ...                           4            NaN                         NaN   \n",
       "4  ...                           8            NaN                           3   \n",
       "\n",
       "     Year Month (Open) Day(Open) Month (Closed) Day(Closed) Ticket Duration  \\\n",
       "0  2023.0            2        12            2.0        25.0            13.0   \n",
       "1  2023.0            2         7            2.0        14.0             7.0   \n",
       "2  2023.0            1         3            1.0        26.0            23.0   \n",
       "3  2023.0            1        12            1.0        17.0             5.0   \n",
       "4  2023.0            2         2            2.0        22.0            20.0   \n",
       "\n",
       "   Season  \n",
       "0  Winter  \n",
       "1  Winter  \n",
       "2  Winter  \n",
       "3  Winter  \n",
       "4  Winter  \n",
       "\n",
       "[5 rows x 55 columns]"
      ]
     },
     "execution_count": 8,
     "metadata": {},
     "output_type": "execute_result"
    }
   ],
   "source": [
    "# adding time columns to the dataset\n",
    "\n",
    "# ticket open\n",
    "df['Year'] = pd.DatetimeIndex(df['open_date']).year # Year column\n",
    "df['Month (Open)'] = pd.DatetimeIndex(df['open_date']).month # Month column\n",
    "df['Day(Open)'] = pd.DatetimeIndex(df['open_date']).day # Day column\n",
    "\n",
    "#ticket close\n",
    "df['Year'] = pd.DatetimeIndex(df['closed_date']).year # Year column\n",
    "df['Month (Closed)'] = pd.DatetimeIndex(df['closed_date']).month # Month column\n",
    "df['Day(Closed)'] = pd.DatetimeIndex(df['closed_date']).day # Day column\n",
    "\n",
    "# This column lists the duration of each ticket by Days\n",
    "df['Ticket Duration'] = df['Day(Closed)'] - df['Day(Open)']\n",
    "\n",
    "# Season the ticket was placed in\n",
    "Winter = [12,1,2]\n",
    "Spring = [3,4,5]\n",
    "Summer = [6,7,8]\n",
    "Autumn = [9,10,11]\n",
    "\n",
    "season_dict = {1: 'Winter',\n",
    "               2: 'Winter',\n",
    "               3: 'Spring', \n",
    "               4: 'Spring',\n",
    "               5: 'Spring',\n",
    "               6: 'Summer',\n",
    "               7: 'Summer',\n",
    "               8: 'Summer',\n",
    "               9: 'Fall',\n",
    "               10: 'Fall',\n",
    "               11: 'Fall',\n",
    "               12: 'Winter'}\n",
    "df['Season'] = df['Month (Open)'].apply(lambda x: season_dict[x])\n",
    "\n",
    "df.head()"
   ]
  },
  {
   "cell_type": "markdown",
   "id": "1b16c448",
   "metadata": {},
   "source": [
    "# Frequency Charts"
   ]
  },
  {
   "cell_type": "code",
   "execution_count": 9,
   "id": "8a513e1e",
   "metadata": {},
   "outputs": [
    {
     "name": "stdout",
     "output_type": "stream",
     "text": [
      "Sanitation                                 278\n",
      "Streets                                    148\n",
      "Housing                                    123\n",
      "Forestry                                    65\n",
      "Police                                      58\n",
      "Parking Violations Bureau                   56\n",
      "Animal Shelter                              50\n",
      "Engineering - Street Repairs                46\n",
      "Rodent_Pest Control                         44\n",
      "Engineering - Traffic                       28\n",
      "BMHA                                        23\n",
      "Freedom of Information                      20\n",
      "National Grid                               20\n",
      "Buffalo Sewer Authority                     13\n",
      "Buffalo Water Authority                      7\n",
      "Streets/Sanitation                           6\n",
      "Moving Violations                            6\n",
      "Citizen Services - Quick Response Teams      2\n",
      "Administration                               2\n",
      "OSP                                          1\n",
      "Citizen Services - Graffiti                  1\n",
      "Taxation                                     1\n",
      "BFD                                          1\n",
      "Adjudication - Ordinance Violation           1\n",
      "Name: reason, dtype: int64\n"
     ]
    }
   ],
   "source": [
    "# Types and frequency of ticket types\n",
    "\n",
    "print(df['reason'].value_counts())\n"
   ]
  },
  {
   "cell_type": "code",
   "execution_count": 10,
   "id": "6971da4f",
   "metadata": {},
   "outputs": [
    {
     "name": "stdout",
     "output_type": "stream",
     "text": [
      "Winter    957\n",
      "Fall       41\n",
      "Spring      1\n",
      "Summer      1\n",
      "Name: Season, dtype: int64\n"
     ]
    }
   ],
   "source": [
    "# Frequency of Tickets during seasons\n",
    "\n",
    "print(df['Season'].value_counts())"
   ]
  },
  {
   "cell_type": "raw",
   "id": "02140ad6",
   "metadata": {},
   "source": [
    "Winter has the most number of tickets "
   ]
  },
  {
   "cell_type": "markdown",
   "id": "e70e4f64",
   "metadata": {},
   "source": [
    "# Reason Frequency Visualization"
   ]
  },
  {
   "cell_type": "code",
   "execution_count": 18,
   "id": "f94fbd9c",
   "metadata": {},
   "outputs": [],
   "source": [
    "# Sanitation is the leading 'reason' for tickets followed by Streets & Housing"
   ]
  },
  {
   "cell_type": "code",
   "execution_count": 17,
   "id": "c041be12",
   "metadata": {},
   "outputs": [
    {
     "data": {
      "text/plain": [
       "<AxesSubplot:>"
      ]
     },
     "execution_count": 17,
     "metadata": {},
     "output_type": "execute_result"
    },
    {
     "data": {
      "image/png": "[encoded data removed]",
      "text/plain": [
       "<Figure size 640x480 with 1 Axes>"
      ]
     },
     "metadata": {},
     "output_type": "display_data"
    }
   ],
   "source": [
    "#bar chart\n",
    "df['reason'].value_counts()[:30].plot(kind='barh')"
   ]
  },
  {
   "cell_type": "markdown",
   "id": "ed3935c0",
   "metadata": {},
   "source": [
    "# Season Ticket Frequency Visualization"
   ]
  },
  {
   "cell_type": "markdown",
   "id": "e9cbddcf",
   "metadata": {},
   "source": [
    "Judging by the frequency of tickets on a seasonal basis, majority of them occur during winter."
   ]
  },
  {
   "cell_type": "code",
   "execution_count": 12,
   "id": "28f436b0",
   "metadata": {},
   "outputs": [
    {
     "data": {
      "text/plain": [
       "<AxesSubplot:>"
      ]
     },
     "execution_count": 12,
     "metadata": {},
     "output_type": "execute_result"
    },
    {
     "data": {
      "image/png": "[encoded data removed]",
      "text/plain": [
       "<Figure size 640x480 with 1 Axes>"
      ]
     },
     "metadata": {},
     "output_type": "display_data"
    }
   ],
   "source": [
    "#bar chart\n",
    "df['Season'].value_counts()[:30].plot(kind='barh')"
   ]
  },
  {
   "cell_type": "markdown",
   "id": "1af9629a",
   "metadata": {},
   "source": [
    "# Status Visualization"
   ]
  },
  {
   "cell_type": "code",
   "execution_count": 13,
   "id": "eb1a1a92",
   "metadata": {},
   "outputs": [
    {
     "data": {
      "text/plain": [
       "Text(0.5, 1.0, 'Ratio of Open & Closed Tickets')"
      ]
     },
     "execution_count": 13,
     "metadata": {},
     "output_type": "execute_result"
    },
    {
     "data": {
      "image/png": "[encoded data removed]",
      "text/plain": [
       "<Figure size 640x480 with 1 Axes>"
      ]
     },
     "metadata": {},
     "output_type": "display_data"
    }
   ],
   "source": [
    "# Pie chart showing the ratio of closed tickets vs open\n",
    "pieChart = df['status'].value_counts()[:2].plot(kind='pie')\n",
    "pieChart.set_title(\"Ratio of Open & Closed Tickets\")"
   ]
  },
  {
   "cell_type": "code",
   "execution_count": 14,
   "id": "01908ef5",
   "metadata": {},
   "outputs": [
    {
     "name": "stdout",
     "output_type": "stream",
     "text": [
      "Number of Closed Tickets:  958\n",
      "Number of Open Tickets:  42\n",
      "Percentage of Closed Tickets:  95.8 %\n",
      "Percentage of Open Tickets: 4.2 %\n",
      "Start of data set:  2016.0\n",
      "End of data set:  2023.0\n",
      "7.0 year timeframe\n"
     ]
    }
   ],
   "source": [
    "#percentage of closed and open\n",
    "\n",
    "closedSum = (df['status'] =='Closed').sum()\n",
    "print('Number of Closed Tickets: ',closedSum,)\n",
    "openSum = (df['status'] =='Open').sum()\n",
    "print('Number of Open Tickets: ',openSum)\n",
    "\n",
    "closedSumPercent = (closedSum/(closedSum+openSum))*100\n",
    "print('Percentage of Closed Tickets: ',closedSumPercent,\"%\")\n",
    "\n",
    "openSumPercent = (openSum/(closedSum+openSum))*100\n",
    "print('Percentage of Open Tickets:',openSumPercent,'%')\n",
    "\n",
    "\n",
    "#get the time span (year will be fine)\n",
    "print('Start of data set: ',df['Year'].min()) # this is when the 311 data starts\n",
    "print('End of data set: ',df['Year'].max()) # this is when the 311 data ends\n",
    "\n",
    "timeFrame = df['Year'].max() - df['Year'].min() # of Years the data spans\n",
    "print(timeFrame,'year timeframe')"
   ]
  },
  {
   "cell_type": "code",
   "execution_count": 16,
   "id": "dcf2303f",
   "metadata": {},
   "outputs": [
    {
     "name": "stdout",
     "output_type": "stream",
     "text": [
      "Within a 7.0 yr timeframe,  95.8 % of tickets were complete.\n"
     ]
    }
   ],
   "source": [
    "print('Within a',timeFrame,'yr timeframe, ',closedSumPercent,'% of tickets were complete.')"
   ]
  }
 ],
 "metadata": {
  "kernelspec": {
   "display_name": "Python 3 (ipykernel)",
   "language": "python",
   "name": "python3"
  },
  "language_info": {
   "codemirror_mode": {
    "name": "ipython",
    "version": 3
   },
   "file_extension": ".py",
   "mimetype": "text/x-python",
   "name": "python",
   "nbconvert_exporter": "python",
   "pygments_lexer": "ipython3",
   "version": "3.9.13"
  }
 },
 "nbformat": 4,
 "nbformat_minor": 5
}
